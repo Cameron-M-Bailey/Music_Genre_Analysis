{
 "cells": [
  {
   "cell_type": "code",
   "execution_count": 1,
   "id": "d85bcbad",
   "metadata": {},
   "outputs": [
    {
     "name": "stderr",
     "output_type": "stream",
     "text": [
      "/Users/cameronbailey/opt/anaconda3/lib/python3.9/site-packages/scipy/__init__.py:146: UserWarning: A NumPy version >=1.16.5 and <1.23.0 is required for this version of SciPy (detected version 1.24.2\n",
      "  warnings.warn(f\"A NumPy version >={np_minversion} and <{np_maxversion}\"\n"
     ]
    }
   ],
   "source": [
    "import numpy as np\n",
    "import pandas as pd\n",
    "import matplotlib.pylab as plt\n",
    "import seaborn as sns\n",
    "%matplotlib inline"
   ]
  },
  {
   "cell_type": "code",
   "execution_count": 2,
   "id": "2c7fc3aa",
   "metadata": {},
   "outputs": [],
   "source": [
    "genre_df = pd.read_csv('genre_df_cleaned.csv',index_col=0)"
   ]
  },
  {
   "cell_type": "markdown",
   "id": "164fa4e1",
   "metadata": {},
   "source": [
    "# Descriptive Statistics"
   ]
  },
  {
   "cell_type": "code",
   "execution_count": 3,
   "id": "242d3c07",
   "metadata": {},
   "outputs": [
    {
     "data": {
      "text/html": [
       "<div>\n",
       "<style scoped>\n",
       "    .dataframe tbody tr th:only-of-type {\n",
       "        vertical-align: middle;\n",
       "    }\n",
       "\n",
       "    .dataframe tbody tr th {\n",
       "        vertical-align: top;\n",
       "    }\n",
       "\n",
       "    .dataframe thead th {\n",
       "        text-align: right;\n",
       "    }\n",
       "</style>\n",
       "<table border=\"1\" class=\"dataframe\">\n",
       "  <thead>\n",
       "    <tr style=\"text-align: right;\">\n",
       "      <th></th>\n",
       "      <th>genre</th>\n",
       "      <th>sentiment score</th>\n",
       "      <th>sentiment</th>\n",
       "      <th>year</th>\n",
       "      <th>month</th>\n",
       "    </tr>\n",
       "  </thead>\n",
       "  <tbody>\n",
       "    <tr>\n",
       "      <th>0</th>\n",
       "      <td>pop</td>\n",
       "      <td>0.296875</td>\n",
       "      <td>positive</td>\n",
       "      <td>2022</td>\n",
       "      <td>12</td>\n",
       "    </tr>\n",
       "    <tr>\n",
       "      <th>1</th>\n",
       "      <td>pop</td>\n",
       "      <td>0.132143</td>\n",
       "      <td>neutral</td>\n",
       "      <td>2022</td>\n",
       "      <td>12</td>\n",
       "    </tr>\n",
       "    <tr>\n",
       "      <th>2</th>\n",
       "      <td>pop</td>\n",
       "      <td>0.000000</td>\n",
       "      <td>neutral</td>\n",
       "      <td>2022</td>\n",
       "      <td>12</td>\n",
       "    </tr>\n",
       "    <tr>\n",
       "      <th>3</th>\n",
       "      <td>pop</td>\n",
       "      <td>0.198958</td>\n",
       "      <td>neutral</td>\n",
       "      <td>2022</td>\n",
       "      <td>12</td>\n",
       "    </tr>\n",
       "    <tr>\n",
       "      <th>4</th>\n",
       "      <td>pop</td>\n",
       "      <td>0.500000</td>\n",
       "      <td>positive</td>\n",
       "      <td>2022</td>\n",
       "      <td>12</td>\n",
       "    </tr>\n",
       "  </tbody>\n",
       "</table>\n",
       "</div>"
      ],
      "text/plain": [
       "  genre  sentiment score sentiment  year  month\n",
       "0   pop         0.296875  positive  2022     12\n",
       "1   pop         0.132143   neutral  2022     12\n",
       "2   pop         0.000000   neutral  2022     12\n",
       "3   pop         0.198958   neutral  2022     12\n",
       "4   pop         0.500000  positive  2022     12"
      ]
     },
     "execution_count": 3,
     "metadata": {},
     "output_type": "execute_result"
    }
   ],
   "source": [
    "genre_df.head()"
   ]
  },
  {
   "cell_type": "code",
   "execution_count": 4,
   "id": "67efaf66",
   "metadata": {},
   "outputs": [
    {
     "data": {
      "text/html": [
       "<div>\n",
       "<style scoped>\n",
       "    .dataframe tbody tr th:only-of-type {\n",
       "        vertical-align: middle;\n",
       "    }\n",
       "\n",
       "    .dataframe tbody tr th {\n",
       "        vertical-align: top;\n",
       "    }\n",
       "\n",
       "    .dataframe thead th {\n",
       "        text-align: right;\n",
       "    }\n",
       "</style>\n",
       "<table border=\"1\" class=\"dataframe\">\n",
       "  <thead>\n",
       "    <tr style=\"text-align: right;\">\n",
       "      <th></th>\n",
       "      <th>sentiment score</th>\n",
       "      <th>year</th>\n",
       "      <th>month</th>\n",
       "    </tr>\n",
       "  </thead>\n",
       "  <tbody>\n",
       "    <tr>\n",
       "      <th>count</th>\n",
       "      <td>15668.000000</td>\n",
       "      <td>15668.000000</td>\n",
       "      <td>15668.000000</td>\n",
       "    </tr>\n",
       "    <tr>\n",
       "      <th>mean</th>\n",
       "      <td>0.114288</td>\n",
       "      <td>2022.501468</td>\n",
       "      <td>7.119415</td>\n",
       "    </tr>\n",
       "    <tr>\n",
       "      <th>std</th>\n",
       "      <td>0.221083</td>\n",
       "      <td>0.500014</td>\n",
       "      <td>4.736415</td>\n",
       "    </tr>\n",
       "    <tr>\n",
       "      <th>min</th>\n",
       "      <td>-1.000000</td>\n",
       "      <td>2022.000000</td>\n",
       "      <td>1.000000</td>\n",
       "    </tr>\n",
       "    <tr>\n",
       "      <th>25%</th>\n",
       "      <td>0.000000</td>\n",
       "      <td>2022.000000</td>\n",
       "      <td>2.000000</td>\n",
       "    </tr>\n",
       "    <tr>\n",
       "      <th>50%</th>\n",
       "      <td>0.100000</td>\n",
       "      <td>2023.000000</td>\n",
       "      <td>3.000000</td>\n",
       "    </tr>\n",
       "    <tr>\n",
       "      <th>75%</th>\n",
       "      <td>0.214286</td>\n",
       "      <td>2023.000000</td>\n",
       "      <td>12.000000</td>\n",
       "    </tr>\n",
       "    <tr>\n",
       "      <th>max</th>\n",
       "      <td>1.000000</td>\n",
       "      <td>2023.000000</td>\n",
       "      <td>12.000000</td>\n",
       "    </tr>\n",
       "  </tbody>\n",
       "</table>\n",
       "</div>"
      ],
      "text/plain": [
       "       sentiment score          year         month\n",
       "count     15668.000000  15668.000000  15668.000000\n",
       "mean          0.114288   2022.501468      7.119415\n",
       "std           0.221083      0.500014      4.736415\n",
       "min          -1.000000   2022.000000      1.000000\n",
       "25%           0.000000   2022.000000      2.000000\n",
       "50%           0.100000   2023.000000      3.000000\n",
       "75%           0.214286   2023.000000     12.000000\n",
       "max           1.000000   2023.000000     12.000000"
      ]
     },
     "execution_count": 4,
     "metadata": {},
     "output_type": "execute_result"
    }
   ],
   "source": [
    "genre_df.describe()"
   ]
  },
  {
   "cell_type": "code",
   "execution_count": 5,
   "id": "8ce17205",
   "metadata": {},
   "outputs": [
    {
     "name": "stdout",
     "output_type": "stream",
     "text": [
      "<class 'pandas.core.frame.DataFrame'>\n",
      "Int64Index: 15668 entries, 0 to 15667\n",
      "Data columns (total 5 columns):\n",
      " #   Column           Non-Null Count  Dtype  \n",
      "---  ------           --------------  -----  \n",
      " 0   genre            15668 non-null  object \n",
      " 1   sentiment score  15668 non-null  float64\n",
      " 2   sentiment        15668 non-null  object \n",
      " 3   year             15668 non-null  int64  \n",
      " 4   month            15668 non-null  int64  \n",
      "dtypes: float64(1), int64(2), object(2)\n",
      "memory usage: 734.4+ KB\n"
     ]
    }
   ],
   "source": [
    "genre_df.info()"
   ]
  },
  {
   "cell_type": "code",
   "execution_count": 6,
   "id": "4938b904",
   "metadata": {},
   "outputs": [
    {
     "data": {
      "text/html": [
       "<div>\n",
       "<style scoped>\n",
       "    .dataframe tbody tr th:only-of-type {\n",
       "        vertical-align: middle;\n",
       "    }\n",
       "\n",
       "    .dataframe tbody tr th {\n",
       "        vertical-align: top;\n",
       "    }\n",
       "\n",
       "    .dataframe thead th {\n",
       "        text-align: right;\n",
       "    }\n",
       "</style>\n",
       "<table border=\"1\" class=\"dataframe\">\n",
       "  <thead>\n",
       "    <tr style=\"text-align: right;\">\n",
       "      <th></th>\n",
       "      <th>genre</th>\n",
       "      <th>sentiment score</th>\n",
       "      <th>year</th>\n",
       "      <th>month</th>\n",
       "    </tr>\n",
       "    <tr>\n",
       "      <th>sentiment</th>\n",
       "      <th></th>\n",
       "      <th></th>\n",
       "      <th></th>\n",
       "      <th></th>\n",
       "    </tr>\n",
       "  </thead>\n",
       "  <tbody>\n",
       "    <tr>\n",
       "      <th>negative</th>\n",
       "      <td>613</td>\n",
       "      <td>613</td>\n",
       "      <td>613</td>\n",
       "      <td>613</td>\n",
       "    </tr>\n",
       "    <tr>\n",
       "      <th>neutral</th>\n",
       "      <td>10873</td>\n",
       "      <td>10873</td>\n",
       "      <td>10873</td>\n",
       "      <td>10873</td>\n",
       "    </tr>\n",
       "    <tr>\n",
       "      <th>positive</th>\n",
       "      <td>4182</td>\n",
       "      <td>4182</td>\n",
       "      <td>4182</td>\n",
       "      <td>4182</td>\n",
       "    </tr>\n",
       "  </tbody>\n",
       "</table>\n",
       "</div>"
      ],
      "text/plain": [
       "           genre  sentiment score   year  month\n",
       "sentiment                                      \n",
       "negative     613              613    613    613\n",
       "neutral    10873            10873  10873  10873\n",
       "positive    4182             4182   4182   4182"
      ]
     },
     "execution_count": 6,
     "metadata": {},
     "output_type": "execute_result"
    }
   ],
   "source": [
    "# Most comments are neutral followed by positive.\n",
    "genre_df.groupby(['sentiment']).count()"
   ]
  },
  {
   "cell_type": "code",
   "execution_count": 7,
   "id": "1334718f",
   "metadata": {},
   "outputs": [
    {
     "data": {
      "text/plain": [
       "pop        3077\n",
       "rock       2625\n",
       "hip-hop    2280\n",
       "rap        1272\n",
       "country    1200\n",
       "metal      1162\n",
       "jazz       1060\n",
       "edm        1011\n",
       "blues       822\n",
       "folk        785\n",
       "soul        265\n",
       "rnb         109\n",
       "Name: genre, dtype: int64"
      ]
     },
     "execution_count": 7,
     "metadata": {},
     "output_type": "execute_result"
    }
   ],
   "source": [
    "# Pop, Rock, and Hip-Hop most popular genres; R&B and Soul are least popular.  \n",
    "genre_df['genre'].value_counts()"
   ]
  },
  {
   "cell_type": "code",
   "execution_count": 8,
   "id": "cba54f89",
   "metadata": {},
   "outputs": [
    {
     "data": {
      "text/plain": [
       "<AxesSubplot:xlabel='genre', ylabel='sentiment score'>"
      ]
     },
     "execution_count": 8,
     "metadata": {},
     "output_type": "execute_result"
    },
    {
     "data": {
      "image/png": "[encoded data removed]",
      "text/plain": [
       "<Figure size 720x432 with 1 Axes>"
      ]
     },
     "metadata": {
      "needs_background": "light"
     },
     "output_type": "display_data"
    }
   ],
   "source": [
    "# For sentiment and sentiment score analysis, prefer median. \n",
    "plt.figure(figsize=(10, 6))\n",
    "sns.boxplot(data=genre_df, x='genre', y='sentiment score')"
   ]
  },
  {
   "cell_type": "code",
   "execution_count": 9,
   "id": "1dd3dedb",
   "metadata": {},
   "outputs": [
    {
     "data": {
      "image/png": "[encoded data removed]",
      "text/plain": [
       "<Figure size 720x432 with 1 Axes>"
      ]
     },
     "metadata": {
      "needs_background": "light"
     },
     "output_type": "display_data"
    }
   ],
   "source": [
    "# For popularity analysis, use either mean or median.\n",
    "plt.figure(figsize=(10, 6))\n",
    "sns.countplot(data=genre_df,x='genre',order=genre_df['genre'].value_counts().index)\n",
    "plt.show()"
   ]
  },
  {
   "cell_type": "code",
   "execution_count": 10,
   "id": "7c5b10d9",
   "metadata": {
    "scrolled": true
   },
   "outputs": [
    {
     "data": {
      "text/plain": [
       "<AxesSubplot:xlabel='genre', ylabel='count'>"
      ]
     },
     "execution_count": 10,
     "metadata": {},
     "output_type": "execute_result"
    },
    {
     "data": {
      "image/png": "[encoded data removed]",
      "text/plain": [
       "<Figure size 720x432 with 1 Axes>"
      ]
     },
     "metadata": {
      "needs_background": "light"
     },
     "output_type": "display_data"
    }
   ],
   "source": [
    "# Hip-hop has high amount of neutral comments \n",
    "plt.figure(figsize=(10, 6))\n",
    "sns.countplot(data=genre_df,x='genre',hue='sentiment',order=genre_df['genre'].value_counts().index)"
   ]
  },
  {
   "cell_type": "code",
   "execution_count": 11,
   "id": "ff110dfb",
   "metadata": {},
   "outputs": [],
   "source": [
    "df_positive = genre_df[genre_df['sentiment']=='positive']\n",
    "df_neutral = genre_df[genre_df['sentiment']=='neutral']\n",
    "df_negative = genre_df[genre_df['sentiment']=='negative']"
   ]
  },
  {
   "cell_type": "code",
   "execution_count": 12,
   "id": "a161d9b1",
   "metadata": {},
   "outputs": [],
   "source": [
    "df_positive_proportions = df_positive.groupby(['genre']).count()\n",
    "df_positive_proportions = round(df_positive_proportions.div(df_positive_proportions.sum())*100,2)\n",
    "df_positive_proportions = df_positive_proportions.rename(columns={'sentiment score':'proportion'})\n",
    "df_positive_proportions= pd.DataFrame(df_positive_proportions).reset_index().sort_values(by='proportion', ascending=False)\n",
    "\n",
    "df_neutral_proportions = df_neutral.groupby(['genre']).count()\n",
    "df_neutral_proportions = round(df_neutral_proportions.div(df_neutral_proportions.sum())*100,2)\n",
    "df_neutral_proportions=df_neutral_proportions.rename(columns={'sentiment score':'proportion'})\n",
    "df_neutral_proportions= pd.DataFrame(df_neutral_proportions).reset_index().sort_values(by='proportion', ascending=False)\n",
    "\n",
    "df_negative_proportions = df_negative.groupby(['genre']).count()\n",
    "df_negative_proportions = round(df_negative_proportions.div(df_negative_proportions.sum())*100,2)\n",
    "df_negative_proportions=df_negative_proportions.rename(columns={'sentiment score':'proportion'})\n",
    "df_negative_proportions= pd.DataFrame(df_negative_proportions).reset_index().sort_values(by='proportion', ascending=False)"
   ]
  },
  {
   "cell_type": "code",
   "execution_count": 13,
   "id": "97ce732f",
   "metadata": {
    "scrolled": true
   },
   "outputs": [
    {
     "data": {
      "text/html": [
       "<div>\n",
       "<style scoped>\n",
       "    .dataframe tbody tr th:only-of-type {\n",
       "        vertical-align: middle;\n",
       "    }\n",
       "\n",
       "    .dataframe tbody tr th {\n",
       "        vertical-align: top;\n",
       "    }\n",
       "\n",
       "    .dataframe thead th {\n",
       "        text-align: right;\n",
       "    }\n",
       "</style>\n",
       "<table border=\"1\" class=\"dataframe\">\n",
       "  <thead>\n",
       "    <tr style=\"text-align: right;\">\n",
       "      <th></th>\n",
       "      <th>genre</th>\n",
       "      <th>proportion</th>\n",
       "    </tr>\n",
       "  </thead>\n",
       "  <tbody>\n",
       "    <tr>\n",
       "      <th>7</th>\n",
       "      <td>pop</td>\n",
       "      <td>24.41</td>\n",
       "    </tr>\n",
       "    <tr>\n",
       "      <th>10</th>\n",
       "      <td>rock</td>\n",
       "      <td>21.16</td>\n",
       "    </tr>\n",
       "    <tr>\n",
       "      <th>8</th>\n",
       "      <td>rap</td>\n",
       "      <td>8.01</td>\n",
       "    </tr>\n",
       "    <tr>\n",
       "      <th>1</th>\n",
       "      <td>country</td>\n",
       "      <td>7.94</td>\n",
       "    </tr>\n",
       "    <tr>\n",
       "      <th>5</th>\n",
       "      <td>jazz</td>\n",
       "      <td>7.75</td>\n",
       "    </tr>\n",
       "    <tr>\n",
       "      <th>2</th>\n",
       "      <td>edm</td>\n",
       "      <td>7.48</td>\n",
       "    </tr>\n",
       "    <tr>\n",
       "      <th>6</th>\n",
       "      <td>metal</td>\n",
       "      <td>7.01</td>\n",
       "    </tr>\n",
       "    <tr>\n",
       "      <th>0</th>\n",
       "      <td>blues</td>\n",
       "      <td>5.14</td>\n",
       "    </tr>\n",
       "    <tr>\n",
       "      <th>3</th>\n",
       "      <td>folk</td>\n",
       "      <td>5.07</td>\n",
       "    </tr>\n",
       "    <tr>\n",
       "      <th>4</th>\n",
       "      <td>hip-hop</td>\n",
       "      <td>3.66</td>\n",
       "    </tr>\n",
       "    <tr>\n",
       "      <th>11</th>\n",
       "      <td>soul</td>\n",
       "      <td>1.98</td>\n",
       "    </tr>\n",
       "    <tr>\n",
       "      <th>9</th>\n",
       "      <td>rnb</td>\n",
       "      <td>0.38</td>\n",
       "    </tr>\n",
       "  </tbody>\n",
       "</table>\n",
       "</div>"
      ],
      "text/plain": [
       "      genre  proportion\n",
       "7       pop       24.41\n",
       "10     rock       21.16\n",
       "8       rap        8.01\n",
       "1   country        7.94\n",
       "5      jazz        7.75\n",
       "2       edm        7.48\n",
       "6     metal        7.01\n",
       "0     blues        5.14\n",
       "3      folk        5.07\n",
       "4   hip-hop        3.66\n",
       "11     soul        1.98\n",
       "9       rnb        0.38"
      ]
     },
     "execution_count": 13,
     "metadata": {},
     "output_type": "execute_result"
    }
   ],
   "source": [
    "df_positive_proportions.sort_values(by='proportion',ascending=False)[['genre','proportion']]"
   ]
  },
  {
   "cell_type": "code",
   "execution_count": 14,
   "id": "142f71aa",
   "metadata": {},
   "outputs": [
    {
     "data": {
      "text/plain": [
       "<AxesSubplot:xlabel='proportion', ylabel='genre'>"
      ]
     },
     "execution_count": 14,
     "metadata": {},
     "output_type": "execute_result"
    },
    {
     "data": {
      "image/png": "[encoded data removed]",
      "text/plain": [
       "<Figure size 432x288 with 1 Axes>"
      ]
     },
     "metadata": {
      "needs_background": "light"
     },
     "output_type": "display_data"
    }
   ],
   "source": [
    "sns.barplot(data=df_positive_proportions, x='proportion', y='genre', orient='h')"
   ]
  },
  {
   "cell_type": "code",
   "execution_count": 15,
   "id": "1e1879f1",
   "metadata": {
    "scrolled": true
   },
   "outputs": [
    {
     "data": {
      "text/html": [
       "<div>\n",
       "<style scoped>\n",
       "    .dataframe tbody tr th:only-of-type {\n",
       "        vertical-align: middle;\n",
       "    }\n",
       "\n",
       "    .dataframe tbody tr th {\n",
       "        vertical-align: top;\n",
       "    }\n",
       "\n",
       "    .dataframe thead th {\n",
       "        text-align: right;\n",
       "    }\n",
       "</style>\n",
       "<table border=\"1\" class=\"dataframe\">\n",
       "  <thead>\n",
       "    <tr style=\"text-align: right;\">\n",
       "      <th></th>\n",
       "      <th>genre</th>\n",
       "      <th>proportion</th>\n",
       "    </tr>\n",
       "  </thead>\n",
       "  <tbody>\n",
       "    <tr>\n",
       "      <th>4</th>\n",
       "      <td>hip-hop</td>\n",
       "      <td>19.19</td>\n",
       "    </tr>\n",
       "    <tr>\n",
       "      <th>7</th>\n",
       "      <td>pop</td>\n",
       "      <td>17.99</td>\n",
       "    </tr>\n",
       "    <tr>\n",
       "      <th>10</th>\n",
       "      <td>rock</td>\n",
       "      <td>15.10</td>\n",
       "    </tr>\n",
       "    <tr>\n",
       "      <th>8</th>\n",
       "      <td>rap</td>\n",
       "      <td>8.05</td>\n",
       "    </tr>\n",
       "    <tr>\n",
       "      <th>1</th>\n",
       "      <td>country</td>\n",
       "      <td>7.44</td>\n",
       "    </tr>\n",
       "    <tr>\n",
       "      <th>6</th>\n",
       "      <td>metal</td>\n",
       "      <td>7.31</td>\n",
       "    </tr>\n",
       "    <tr>\n",
       "      <th>5</th>\n",
       "      <td>jazz</td>\n",
       "      <td>6.36</td>\n",
       "    </tr>\n",
       "    <tr>\n",
       "      <th>2</th>\n",
       "      <td>edm</td>\n",
       "      <td>6.01</td>\n",
       "    </tr>\n",
       "    <tr>\n",
       "      <th>0</th>\n",
       "      <td>blues</td>\n",
       "      <td>5.15</td>\n",
       "    </tr>\n",
       "    <tr>\n",
       "      <th>3</th>\n",
       "      <td>folk</td>\n",
       "      <td>4.98</td>\n",
       "    </tr>\n",
       "    <tr>\n",
       "      <th>11</th>\n",
       "      <td>soul</td>\n",
       "      <td>1.61</td>\n",
       "    </tr>\n",
       "    <tr>\n",
       "      <th>9</th>\n",
       "      <td>rnb</td>\n",
       "      <td>0.83</td>\n",
       "    </tr>\n",
       "  </tbody>\n",
       "</table>\n",
       "</div>"
      ],
      "text/plain": [
       "      genre  proportion\n",
       "4   hip-hop       19.19\n",
       "7       pop       17.99\n",
       "10     rock       15.10\n",
       "8       rap        8.05\n",
       "1   country        7.44\n",
       "6     metal        7.31\n",
       "5      jazz        6.36\n",
       "2       edm        6.01\n",
       "0     blues        5.15\n",
       "3      folk        4.98\n",
       "11     soul        1.61\n",
       "9       rnb        0.83"
      ]
     },
     "execution_count": 15,
     "metadata": {},
     "output_type": "execute_result"
    }
   ],
   "source": [
    "df_neutral_proportions.sort_values(by='proportion',ascending=False)[['genre','proportion']]"
   ]
  },
  {
   "cell_type": "code",
   "execution_count": 16,
   "id": "5232b7d3",
   "metadata": {},
   "outputs": [
    {
     "data": {
      "text/plain": [
       "<AxesSubplot:xlabel='proportion', ylabel='genre'>"
      ]
     },
     "execution_count": 16,
     "metadata": {},
     "output_type": "execute_result"
    },
    {
     "data": {
      "image/png": "[encoded data removed]",
      "text/plain": [
       "<Figure size 432x288 with 1 Axes>"
      ]
     },
     "metadata": {
      "needs_background": "light"
     },
     "output_type": "display_data"
    }
   ],
   "source": [
    "sns.barplot(data=df_neutral_proportions, x='proportion', y='genre', orient='h')"
   ]
  },
  {
   "cell_type": "code",
   "execution_count": 17,
   "id": "0f6d53d1",
   "metadata": {
    "scrolled": true
   },
   "outputs": [
    {
     "data": {
      "text/html": [
       "<div>\n",
       "<style scoped>\n",
       "    .dataframe tbody tr th:only-of-type {\n",
       "        vertical-align: middle;\n",
       "    }\n",
       "\n",
       "    .dataframe tbody tr th {\n",
       "        vertical-align: top;\n",
       "    }\n",
       "\n",
       "    .dataframe thead th {\n",
       "        text-align: right;\n",
       "    }\n",
       "</style>\n",
       "<table border=\"1\" class=\"dataframe\">\n",
       "  <thead>\n",
       "    <tr style=\"text-align: right;\">\n",
       "      <th></th>\n",
       "      <th>genre</th>\n",
       "      <th>proportion</th>\n",
       "    </tr>\n",
       "  </thead>\n",
       "  <tbody>\n",
       "    <tr>\n",
       "      <th>7</th>\n",
       "      <td>pop</td>\n",
       "      <td>16.31</td>\n",
       "    </tr>\n",
       "    <tr>\n",
       "      <th>10</th>\n",
       "      <td>rock</td>\n",
       "      <td>15.99</td>\n",
       "    </tr>\n",
       "    <tr>\n",
       "      <th>6</th>\n",
       "      <td>metal</td>\n",
       "      <td>12.07</td>\n",
       "    </tr>\n",
       "    <tr>\n",
       "      <th>8</th>\n",
       "      <td>rap</td>\n",
       "      <td>10.11</td>\n",
       "    </tr>\n",
       "    <tr>\n",
       "      <th>1</th>\n",
       "      <td>country</td>\n",
       "      <td>9.62</td>\n",
       "    </tr>\n",
       "    <tr>\n",
       "      <th>0</th>\n",
       "      <td>blues</td>\n",
       "      <td>7.67</td>\n",
       "    </tr>\n",
       "    <tr>\n",
       "      <th>2</th>\n",
       "      <td>edm</td>\n",
       "      <td>7.34</td>\n",
       "    </tr>\n",
       "    <tr>\n",
       "      <th>5</th>\n",
       "      <td>jazz</td>\n",
       "      <td>7.34</td>\n",
       "    </tr>\n",
       "    <tr>\n",
       "      <th>4</th>\n",
       "      <td>hip-hop</td>\n",
       "      <td>6.69</td>\n",
       "    </tr>\n",
       "    <tr>\n",
       "      <th>3</th>\n",
       "      <td>folk</td>\n",
       "      <td>5.22</td>\n",
       "    </tr>\n",
       "    <tr>\n",
       "      <th>11</th>\n",
       "      <td>soul</td>\n",
       "      <td>1.14</td>\n",
       "    </tr>\n",
       "    <tr>\n",
       "      <th>9</th>\n",
       "      <td>rnb</td>\n",
       "      <td>0.49</td>\n",
       "    </tr>\n",
       "  </tbody>\n",
       "</table>\n",
       "</div>"
      ],
      "text/plain": [
       "      genre  proportion\n",
       "7       pop       16.31\n",
       "10     rock       15.99\n",
       "6     metal       12.07\n",
       "8       rap       10.11\n",
       "1   country        9.62\n",
       "0     blues        7.67\n",
       "2       edm        7.34\n",
       "5      jazz        7.34\n",
       "4   hip-hop        6.69\n",
       "3      folk        5.22\n",
       "11     soul        1.14\n",
       "9       rnb        0.49"
      ]
     },
     "execution_count": 17,
     "metadata": {},
     "output_type": "execute_result"
    }
   ],
   "source": [
    "df_negative_proportions.sort_values(by='proportion',ascending=False)[['genre','proportion']]"
   ]
  },
  {
   "cell_type": "code",
   "execution_count": 18,
   "id": "9e494c60",
   "metadata": {},
   "outputs": [
    {
     "data": {
      "text/plain": [
       "<AxesSubplot:xlabel='proportion', ylabel='genre'>"
      ]
     },
     "execution_count": 18,
     "metadata": {},
     "output_type": "execute_result"
    },
    {
     "data": {
      "image/png": "[encoded data removed]",
      "text/plain": [
       "<Figure size 432x288 with 1 Axes>"
      ]
     },
     "metadata": {
      "needs_background": "light"
     },
     "output_type": "display_data"
    }
   ],
   "source": [
    "sns.barplot(data=df_negative_proportions, x='proportion', y='genre', orient='h')"
   ]
  },
  {
   "cell_type": "markdown",
   "id": "edadbe5b",
   "metadata": {},
   "source": [
    "# Correlation Analysis"
   ]
  },
  {
   "cell_type": "code",
   "execution_count": 19,
   "id": "42ed025f",
   "metadata": {},
   "outputs": [],
   "source": [
    "# Hypothesis: Does higher popularity equate to higher positive and negative sentiment?"
   ]
  },
  {
   "cell_type": "code",
   "execution_count": 20,
   "id": "57674e55",
   "metadata": {},
   "outputs": [],
   "source": [
    "genre_neg_corr = genre_df[genre_df['sentiment']=='negative']\n",
    "genre_neg_corr = genre_neg_corr.groupby(['genre']).median()['sentiment score']"
   ]
  },
  {
   "cell_type": "code",
   "execution_count": 21,
   "id": "880f8a42",
   "metadata": {},
   "outputs": [],
   "source": [
    "genre_neut_corr = genre_df[genre_df['sentiment']=='neutral']\n",
    "genre_neut_corr = genre_neut_corr.groupby(['genre']).median()['sentiment score']"
   ]
  },
  {
   "cell_type": "code",
   "execution_count": 22,
   "id": "0b7db3a4",
   "metadata": {},
   "outputs": [],
   "source": [
    "genre_pos_corr = genre_df[genre_df['sentiment']=='positive']\n",
    "genre_pos_corr = genre_pos_corr.groupby(['genre']).median()['sentiment score']"
   ]
  },
  {
   "cell_type": "code",
   "execution_count": 23,
   "id": "9faf7057",
   "metadata": {},
   "outputs": [],
   "source": [
    "genre_count_corr = genre_df.value_counts('genre').sort_index()"
   ]
  },
  {
   "cell_type": "code",
   "execution_count": 24,
   "id": "25edff69",
   "metadata": {},
   "outputs": [],
   "source": [
    "genre_neg_corr = pd.Series(genre_neg_corr,\n",
    "                       index=['blues', 'country', 'edm', 'folk', 'hip-hop', 'jazz', 'metal', 'pop', 'rap', 'rnb', 'rock', 'soul'],\n",
    "                       name='Median Negative Sentiment Score')\n",
    "\n",
    "genre_neut_corr = pd.Series(genre_neut_corr,\n",
    "                       index=['blues', 'country', 'edm', 'folk', 'hip-hop', 'jazz', 'metal', 'pop', 'rap', 'rnb', 'rock', 'soul'],\n",
    "                       name='Median Neutral Sentiment Score')\n",
    "\n",
    "genre_pos_corr = pd.Series(genre_pos_corr,\n",
    "                       index=['blues', 'country', 'edm', 'folk', 'hip-hop', 'jazz', 'metal', 'pop', 'rap', 'rnb', 'rock', 'soul'],\n",
    "                       name='Median Positive Sentiment Score')\n",
    "\n",
    "genre_count_corr = pd.Series(genre_count_corr,\n",
    "                       index=['blues', 'country', 'edm', 'folk', 'hip-hop', 'jazz', 'metal', 'pop', 'rap', 'rnb', 'rock', 'soul'],\n",
    "                       name='Popularity')\n",
    "\n",
    "genre_df_corr = pd.concat([genre_count_corr,genre_neg_corr,genre_neut_corr,genre_pos_corr], axis=1)\n"
   ]
  },
  {
   "cell_type": "code",
   "execution_count": 25,
   "id": "ef27a317",
   "metadata": {},
   "outputs": [
    {
     "data": {
      "text/html": [
       "<div>\n",
       "<style scoped>\n",
       "    .dataframe tbody tr th:only-of-type {\n",
       "        vertical-align: middle;\n",
       "    }\n",
       "\n",
       "    .dataframe tbody tr th {\n",
       "        vertical-align: top;\n",
       "    }\n",
       "\n",
       "    .dataframe thead th {\n",
       "        text-align: right;\n",
       "    }\n",
       "</style>\n",
       "<table border=\"1\" class=\"dataframe\">\n",
       "  <thead>\n",
       "    <tr style=\"text-align: right;\">\n",
       "      <th></th>\n",
       "      <th>Popularity</th>\n",
       "      <th>Median Negative Sentiment Score</th>\n",
       "      <th>Median Neutral Sentiment Score</th>\n",
       "      <th>Median Positive Sentiment Score</th>\n",
       "    </tr>\n",
       "  </thead>\n",
       "  <tbody>\n",
       "    <tr>\n",
       "      <th>blues</th>\n",
       "      <td>822</td>\n",
       "      <td>-0.431818</td>\n",
       "      <td>0.000000</td>\n",
       "      <td>0.375000</td>\n",
       "    </tr>\n",
       "    <tr>\n",
       "      <th>country</th>\n",
       "      <td>1200</td>\n",
       "      <td>-0.450000</td>\n",
       "      <td>0.000000</td>\n",
       "      <td>0.343259</td>\n",
       "    </tr>\n",
       "    <tr>\n",
       "      <th>edm</th>\n",
       "      <td>1011</td>\n",
       "      <td>-0.390625</td>\n",
       "      <td>0.000000</td>\n",
       "      <td>0.325000</td>\n",
       "    </tr>\n",
       "    <tr>\n",
       "      <th>folk</th>\n",
       "      <td>785</td>\n",
       "      <td>-0.300000</td>\n",
       "      <td>0.000000</td>\n",
       "      <td>0.350000</td>\n",
       "    </tr>\n",
       "    <tr>\n",
       "      <th>hip-hop</th>\n",
       "      <td>2280</td>\n",
       "      <td>-0.500000</td>\n",
       "      <td>0.120000</td>\n",
       "      <td>0.358333</td>\n",
       "    </tr>\n",
       "    <tr>\n",
       "      <th>jazz</th>\n",
       "      <td>1060</td>\n",
       "      <td>-0.300000</td>\n",
       "      <td>0.000000</td>\n",
       "      <td>0.375000</td>\n",
       "    </tr>\n",
       "    <tr>\n",
       "      <th>metal</th>\n",
       "      <td>1162</td>\n",
       "      <td>-0.379167</td>\n",
       "      <td>0.000000</td>\n",
       "      <td>0.340000</td>\n",
       "    </tr>\n",
       "    <tr>\n",
       "      <th>pop</th>\n",
       "      <td>3077</td>\n",
       "      <td>-0.312500</td>\n",
       "      <td>0.033333</td>\n",
       "      <td>0.303030</td>\n",
       "    </tr>\n",
       "    <tr>\n",
       "      <th>rap</th>\n",
       "      <td>1272</td>\n",
       "      <td>-0.341667</td>\n",
       "      <td>0.000000</td>\n",
       "      <td>0.333333</td>\n",
       "    </tr>\n",
       "    <tr>\n",
       "      <th>rnb</th>\n",
       "      <td>109</td>\n",
       "      <td>-0.400000</td>\n",
       "      <td>0.000000</td>\n",
       "      <td>0.416667</td>\n",
       "    </tr>\n",
       "    <tr>\n",
       "      <th>rock</th>\n",
       "      <td>2625</td>\n",
       "      <td>-0.333333</td>\n",
       "      <td>0.020933</td>\n",
       "      <td>0.316883</td>\n",
       "    </tr>\n",
       "    <tr>\n",
       "      <th>soul</th>\n",
       "      <td>265</td>\n",
       "      <td>-0.350000</td>\n",
       "      <td>0.000000</td>\n",
       "      <td>0.386970</td>\n",
       "    </tr>\n",
       "  </tbody>\n",
       "</table>\n",
       "</div>"
      ],
      "text/plain": [
       "         Popularity  Median Negative Sentiment Score  \\\n",
       "blues           822                        -0.431818   \n",
       "country        1200                        -0.450000   \n",
       "edm            1011                        -0.390625   \n",
       "folk            785                        -0.300000   \n",
       "hip-hop        2280                        -0.500000   \n",
       "jazz           1060                        -0.300000   \n",
       "metal          1162                        -0.379167   \n",
       "pop            3077                        -0.312500   \n",
       "rap            1272                        -0.341667   \n",
       "rnb             109                        -0.400000   \n",
       "rock           2625                        -0.333333   \n",
       "soul            265                        -0.350000   \n",
       "\n",
       "         Median Neutral Sentiment Score  Median Positive Sentiment Score  \n",
       "blues                          0.000000                         0.375000  \n",
       "country                        0.000000                         0.343259  \n",
       "edm                            0.000000                         0.325000  \n",
       "folk                           0.000000                         0.350000  \n",
       "hip-hop                        0.120000                         0.358333  \n",
       "jazz                           0.000000                         0.375000  \n",
       "metal                          0.000000                         0.340000  \n",
       "pop                            0.033333                         0.303030  \n",
       "rap                            0.000000                         0.333333  \n",
       "rnb                            0.000000                         0.416667  \n",
       "rock                           0.020933                         0.316883  \n",
       "soul                           0.000000                         0.386970  "
      ]
     },
     "execution_count": 25,
     "metadata": {},
     "output_type": "execute_result"
    }
   ],
   "source": [
    "genre_df_corr"
   ]
  },
  {
   "cell_type": "code",
   "execution_count": 26,
   "id": "1abef459",
   "metadata": {},
   "outputs": [
    {
     "data": {
      "text/plain": [
       "<AxesSubplot:>"
      ]
     },
     "execution_count": 26,
     "metadata": {},
     "output_type": "execute_result"
    },
    {
     "data": {
      "image/png": "[encoded data removed]",
      "text/plain": [
       "<Figure size 432x288 with 2 Axes>"
      ]
     },
     "metadata": {
      "needs_background": "light"
     },
     "output_type": "display_data"
    }
   ],
   "source": [
    "# Impacts to popularity: Negative little impact, Neutral high positive, Positive low negative. \n",
    "sns.heatmap(genre_df_corr.corr(),annot=True)"
   ]
  },
  {
   "cell_type": "code",
   "execution_count": 27,
   "id": "5a86d581",
   "metadata": {},
   "outputs": [
    {
     "data": {
      "text/plain": [
       "<AxesSubplot:xlabel='Popularity', ylabel='Median Negative Sentiment Score'>"
      ]
     },
     "execution_count": 27,
     "metadata": {},
     "output_type": "execute_result"
    },
    {
     "data": {
      "image/png": "[encoded data removed]",
      "text/plain": [
       "<Figure size 432x288 with 1 Axes>"
      ]
     },
     "metadata": {
      "needs_background": "light"
     },
     "output_type": "display_data"
    }
   ],
   "source": [
    "sns.regplot(data=genre_df_corr,x='Popularity',y='Median Negative Sentiment Score')"
   ]
  },
  {
   "cell_type": "code",
   "execution_count": 28,
   "id": "8dd64478",
   "metadata": {},
   "outputs": [
    {
     "data": {
      "text/plain": [
       "<AxesSubplot:xlabel='Popularity', ylabel='Median Neutral Sentiment Score'>"
      ]
     },
     "execution_count": 28,
     "metadata": {},
     "output_type": "execute_result"
    },
    {
     "data": {
      "image/png": "[encoded data removed]",
      "text/plain": [
       "<Figure size 432x288 with 1 Axes>"
      ]
     },
     "metadata": {
      "needs_background": "light"
     },
     "output_type": "display_data"
    }
   ],
   "source": [
    "sns.regplot(data=genre_df_corr,x='Popularity',y='Median Neutral Sentiment Score')"
   ]
  },
  {
   "cell_type": "code",
   "execution_count": 29,
   "id": "4cf59535",
   "metadata": {},
   "outputs": [
    {
     "data": {
      "text/plain": [
       "<AxesSubplot:xlabel='Popularity', ylabel='Median Positive Sentiment Score'>"
      ]
     },
     "execution_count": 29,
     "metadata": {},
     "output_type": "execute_result"
    },
    {
     "data": {
      "image/png": "[encoded data removed]",
      "text/plain": [
       "<Figure size 432x288 with 1 Axes>"
      ]
     },
     "metadata": {
      "needs_background": "light"
     },
     "output_type": "display_data"
    }
   ],
   "source": [
    "sns.regplot(data=genre_df_corr,x='Popularity',y='Median Positive Sentiment Score')"
   ]
  },
  {
   "cell_type": "markdown",
   "id": "a5f9c4a3",
   "metadata": {},
   "source": [
    "# Polarity Score Analysis"
   ]
  },
  {
   "cell_type": "code",
   "execution_count": 30,
   "id": "4a2010ff",
   "metadata": {},
   "outputs": [],
   "source": [
    "genre_sentiment_counts = genre_df.groupby(['genre', 'sentiment'])['sentiment'].count().unstack()"
   ]
  },
  {
   "cell_type": "code",
   "execution_count": 31,
   "id": "4118e2ba",
   "metadata": {},
   "outputs": [],
   "source": [
    "genre_sentiment_counts['total'] = genre_sentiment_counts['positive']+ genre_sentiment_counts['negative'] + genre_sentiment_counts['neutral']"
   ]
  },
  {
   "cell_type": "code",
   "execution_count": 32,
   "id": "2da8509e",
   "metadata": {},
   "outputs": [],
   "source": [
    "genre_sentiment_counts['polarity_score'] = \\\n",
    "    (genre_sentiment_counts['positive'] - genre_sentiment_counts['negative'])/genre_sentiment_counts['total']"
   ]
  },
  {
   "cell_type": "code",
   "execution_count": 33,
   "id": "b57bf8ba",
   "metadata": {},
   "outputs": [
    {
     "data": {
      "text/plain": [
       "genre\n",
       "rock       0.299810\n",
       "pop        0.299318\n",
       "soul       0.286792\n",
       "edm        0.265084\n",
       "jazz       0.263208\n",
       "folk       0.229299\n",
       "country    0.227500\n",
       "rap        0.214623\n",
       "blues      0.204380\n",
       "metal      0.188468\n",
       "rnb        0.119266\n",
       "hip-hop    0.049123\n",
       "Name: polarity_score, dtype: float64"
      ]
     },
     "execution_count": 33,
     "metadata": {},
     "output_type": "execute_result"
    }
   ],
   "source": [
    "genre_sentiment_counts['polarity_score'].sort_values(ascending=False)"
   ]
  },
  {
   "cell_type": "code",
   "execution_count": 34,
   "id": "1b59ac62",
   "metadata": {},
   "outputs": [],
   "source": [
    "genre_pol_corr = genre_sentiment_counts['polarity_score'].sort_index()"
   ]
  },
  {
   "cell_type": "code",
   "execution_count": 35,
   "id": "5af4b1b9",
   "metadata": {},
   "outputs": [],
   "source": [
    "genre_pol_corr = pd.Series(genre_pol_corr,\n",
    "                       index=['blues', 'country', 'edm', 'folk', 'hip-hop', 'jazz', 'metal', 'pop', 'rap', 'rnb', 'rock', 'soul'],\n",
    "                       name='Polarity Score')\n",
    "\n",
    "genre_df_pol_corr = pd.concat([genre_count_corr,genre_pol_corr], axis=1)"
   ]
  },
  {
   "cell_type": "code",
   "execution_count": 36,
   "id": "fb92df18",
   "metadata": {},
   "outputs": [
    {
     "data": {
      "text/html": [
       "<div>\n",
       "<style scoped>\n",
       "    .dataframe tbody tr th:only-of-type {\n",
       "        vertical-align: middle;\n",
       "    }\n",
       "\n",
       "    .dataframe tbody tr th {\n",
       "        vertical-align: top;\n",
       "    }\n",
       "\n",
       "    .dataframe thead th {\n",
       "        text-align: right;\n",
       "    }\n",
       "</style>\n",
       "<table border=\"1\" class=\"dataframe\">\n",
       "  <thead>\n",
       "    <tr style=\"text-align: right;\">\n",
       "      <th></th>\n",
       "      <th>Popularity</th>\n",
       "      <th>Polarity Score</th>\n",
       "    </tr>\n",
       "  </thead>\n",
       "  <tbody>\n",
       "    <tr>\n",
       "      <th>Popularity</th>\n",
       "      <td>1.000000</td>\n",
       "      <td>0.151411</td>\n",
       "    </tr>\n",
       "    <tr>\n",
       "      <th>Polarity Score</th>\n",
       "      <td>0.151411</td>\n",
       "      <td>1.000000</td>\n",
       "    </tr>\n",
       "  </tbody>\n",
       "</table>\n",
       "</div>"
      ],
      "text/plain": [
       "                Popularity  Polarity Score\n",
       "Popularity        1.000000        0.151411\n",
       "Polarity Score    0.151411        1.000000"
      ]
     },
     "execution_count": 36,
     "metadata": {},
     "output_type": "execute_result"
    }
   ],
   "source": [
    "genre_df_pol_corr.corr()"
   ]
  },
  {
   "cell_type": "markdown",
   "id": "0984e422",
   "metadata": {},
   "source": [
    "# Group Dynamics Analysis"
   ]
  },
  {
   "cell_type": "code",
   "execution_count": 37,
   "id": "6a38ec8f",
   "metadata": {},
   "outputs": [],
   "source": [
    "genre_df_2022 = genre_df[genre_df['year']==2022]\n",
    "genre_df_2023 = genre_df[genre_df['year']==2023]\n",
    "\n",
    "genre_df_2022_no_neutral = genre_df_2022[(genre_df_2022['sentiment']=='positive') | (genre_df_2022['sentiment']=='negative')]\n",
    "genre_df_2023_no_neutral = genre_df_2023[(genre_df_2023['sentiment']=='positive') | (genre_df_2023['sentiment']=='negative')]"
   ]
  },
  {
   "cell_type": "code",
   "execution_count": 38,
   "id": "ad06fd13",
   "metadata": {},
   "outputs": [],
   "source": [
    "order_genres = sorted(genre_df_2023_no_neutral['genre'].unique())"
   ]
  },
  {
   "cell_type": "code",
   "execution_count": 39,
   "id": "28122a32",
   "metadata": {},
   "outputs": [
    {
     "data": {
      "text/plain": [
       "[Text(0, 0, '27'),\n",
       " Text(0, 0, '23'),\n",
       " Text(0, 0, '17'),\n",
       " Text(0, 0, '13'),\n",
       " Text(0, 0, '24'),\n",
       " Text(0, 0, '27'),\n",
       " Text(0, 0, '34'),\n",
       " Text(0, 0, '44'),\n",
       " Text(0, 0, '29'),\n",
       " Text(0, 0, '1'),\n",
       " Text(0, 0, '49'),\n",
       " Text(0, 0, '4')]"
      ]
     },
     "execution_count": 39,
     "metadata": {},
     "output_type": "execute_result"
    },
    {
     "data": {
      "image/png": "[encoded data removed]",
      "text/plain": [
       "<Figure size 720x432 with 1 Axes>"
      ]
     },
     "metadata": {
      "needs_background": "light"
     },
     "output_type": "display_data"
    }
   ],
   "source": [
    "# Analysis of 2022\n",
    "plt.figure(figsize=(10, 6))\n",
    "ax = sns.countplot(data=genre_df_2022_no_neutral,x='genre',hue='sentiment', order=order_genres)\n",
    "ax.bar_label(ax.containers[0])\n",
    "ax.bar_label(ax.containers[1])"
   ]
  },
  {
   "cell_type": "code",
   "execution_count": 40,
   "id": "e6db8ca4",
   "metadata": {},
   "outputs": [
    {
     "data": {
      "text/plain": [
       "[Text(0, 0, '20'),\n",
       " Text(0, 0, '36'),\n",
       " Text(0, 0, '28'),\n",
       " Text(0, 0, '19'),\n",
       " Text(0, 0, '17'),\n",
       " Text(0, 0, '18'),\n",
       " Text(0, 0, '40'),\n",
       " Text(0, 0, '56'),\n",
       " Text(0, 0, '33'),\n",
       " Text(0, 0, '2'),\n",
       " Text(0, 0, '49'),\n",
       " Text(0, 0, '3')]"
      ]
     },
     "execution_count": 40,
     "metadata": {},
     "output_type": "execute_result"
    },
    {
     "data": {
      "image/png": "[encoded data removed]",
      "text/plain": [
       "<Figure size 720x432 with 1 Axes>"
      ]
     },
     "metadata": {
      "needs_background": "light"
     },
     "output_type": "display_data"
    }
   ],
   "source": [
    "# Analysis of 2023\n",
    "plt.figure(figsize=(10, 6))\n",
    "ax = sns.countplot(data=genre_df_2023_no_neutral,x='genre',hue='sentiment',order=order_genres)\n",
    "ax.bar_label(ax.containers[0])\n",
    "ax.bar_label(ax.containers[1])"
   ]
  },
  {
   "cell_type": "code",
   "execution_count": 41,
   "id": "ea3de8b4",
   "metadata": {},
   "outputs": [],
   "source": [
    "genre_diff = pd.DataFrame\\\n",
    "((genre_df_2023.groupby(['genre']).count() - genre_df_2022.groupby(['genre']).count())['sentiment']).reset_index()\n",
    "genre_diff = genre_diff.rename(columns={'sentiment':'group change'}).sort_values(by='group change',ascending=False)"
   ]
  },
  {
   "cell_type": "code",
   "execution_count": 42,
   "id": "cf7c1b05",
   "metadata": {},
   "outputs": [
    {
     "data": {
      "text/html": [
       "<div>\n",
       "<style scoped>\n",
       "    .dataframe tbody tr th:only-of-type {\n",
       "        vertical-align: middle;\n",
       "    }\n",
       "\n",
       "    .dataframe tbody tr th {\n",
       "        vertical-align: top;\n",
       "    }\n",
       "\n",
       "    .dataframe thead th {\n",
       "        text-align: right;\n",
       "    }\n",
       "</style>\n",
       "<table border=\"1\" class=\"dataframe\">\n",
       "  <thead>\n",
       "    <tr style=\"text-align: right;\">\n",
       "      <th></th>\n",
       "      <th>genre</th>\n",
       "      <th>group change</th>\n",
       "    </tr>\n",
       "  </thead>\n",
       "  <tbody>\n",
       "    <tr>\n",
       "      <th>7</th>\n",
       "      <td>pop</td>\n",
       "      <td>81</td>\n",
       "    </tr>\n",
       "    <tr>\n",
       "      <th>6</th>\n",
       "      <td>metal</td>\n",
       "      <td>66</td>\n",
       "    </tr>\n",
       "    <tr>\n",
       "      <th>2</th>\n",
       "      <td>edm</td>\n",
       "      <td>39</td>\n",
       "    </tr>\n",
       "    <tr>\n",
       "      <th>9</th>\n",
       "      <td>rnb</td>\n",
       "      <td>21</td>\n",
       "    </tr>\n",
       "    <tr>\n",
       "      <th>4</th>\n",
       "      <td>hip-hop</td>\n",
       "      <td>16</td>\n",
       "    </tr>\n",
       "    <tr>\n",
       "      <th>5</th>\n",
       "      <td>jazz</td>\n",
       "      <td>4</td>\n",
       "    </tr>\n",
       "    <tr>\n",
       "      <th>1</th>\n",
       "      <td>country</td>\n",
       "      <td>2</td>\n",
       "    </tr>\n",
       "    <tr>\n",
       "      <th>8</th>\n",
       "      <td>rap</td>\n",
       "      <td>-18</td>\n",
       "    </tr>\n",
       "    <tr>\n",
       "      <th>10</th>\n",
       "      <td>rock</td>\n",
       "      <td>-25</td>\n",
       "    </tr>\n",
       "    <tr>\n",
       "      <th>3</th>\n",
       "      <td>folk</td>\n",
       "      <td>-35</td>\n",
       "    </tr>\n",
       "    <tr>\n",
       "      <th>0</th>\n",
       "      <td>blues</td>\n",
       "      <td>-50</td>\n",
       "    </tr>\n",
       "    <tr>\n",
       "      <th>11</th>\n",
       "      <td>soul</td>\n",
       "      <td>-55</td>\n",
       "    </tr>\n",
       "  </tbody>\n",
       "</table>\n",
       "</div>"
      ],
      "text/plain": [
       "      genre  group change\n",
       "7       pop            81\n",
       "6     metal            66\n",
       "2       edm            39\n",
       "9       rnb            21\n",
       "4   hip-hop            16\n",
       "5      jazz             4\n",
       "1   country             2\n",
       "8       rap           -18\n",
       "10     rock           -25\n",
       "3      folk           -35\n",
       "0     blues           -50\n",
       "11     soul           -55"
      ]
     },
     "execution_count": 42,
     "metadata": {},
     "output_type": "execute_result"
    }
   ],
   "source": [
    "genre_diff"
   ]
  },
  {
   "cell_type": "code",
   "execution_count": 43,
   "id": "41183826",
   "metadata": {},
   "outputs": [
    {
     "data": {
      "text/plain": [
       "<AxesSubplot:xlabel='group change', ylabel='genre'>"
      ]
     },
     "execution_count": 43,
     "metadata": {},
     "output_type": "execute_result"
    },
    {
     "data": {
      "image/png": "[encoded data removed]",
      "text/plain": [
       "<Figure size 432x288 with 1 Axes>"
      ]
     },
     "metadata": {
      "needs_background": "light"
     },
     "output_type": "display_data"
    }
   ],
   "source": [
    "sns.barplot(data=genre_diff, x='group change', y='genre', orient='h')"
   ]
  }
 ],
 "metadata": {
  "kernelspec": {
   "display_name": "Python 3 (ipykernel)",
   "language": "python",
   "name": "python3"
  },
  "language_info": {
   "codemirror_mode": {
    "name": "ipython",
    "version": 3
   },
   "file_extension": ".py",
   "mimetype": "text/x-python",
   "name": "python",
   "nbconvert_exporter": "python",
   "pygments_lexer": "ipython3",
   "version": "3.9.12"
  }
 },
 "nbformat": 4,
 "nbformat_minor": 5
}
