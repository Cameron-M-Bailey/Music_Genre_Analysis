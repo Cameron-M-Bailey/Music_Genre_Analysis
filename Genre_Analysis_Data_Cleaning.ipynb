{
 "cells": [
  {
   "cell_type": "code",
   "execution_count": null,
   "id": "b4d90770",
   "metadata": {},
   "outputs": [],
   "source": [
    "import numpy as np\n",
    "import pandas as pd\n",
    "import matplotlib.pylab as plt\n",
    "import seaborn as sns\n",
    "%matplotlib inline\n",
    "from textblob import TextBlob"
   ]
  },
  {
   "cell_type": "code",
   "execution_count": null,
   "id": "c3889ca8",
   "metadata": {},
   "outputs": [],
   "source": [
    "genre_df = pd.read_csv('genre_df.csv',index_col=0)"
   ]
  },
  {
   "cell_type": "code",
   "execution_count": null,
   "id": "be952a95",
   "metadata": {},
   "outputs": [],
   "source": [
    "genre_df.shape"
   ]
  },
  {
   "cell_type": "code",
   "execution_count": null,
   "id": "22224cee",
   "metadata": {},
   "outputs": [],
   "source": [
    "genre_df.drop(genre_df.index[3002:3022], inplace=True)"
   ]
  },
  {
   "cell_type": "code",
   "execution_count": null,
   "id": "736017f4",
   "metadata": {},
   "outputs": [],
   "source": [
    "genre_df = genre_df.reset_index(drop=True)"
   ]
  },
  {
   "cell_type": "code",
   "execution_count": null,
   "id": "8331e356",
   "metadata": {
    "scrolled": true
   },
   "outputs": [],
   "source": [
    "genre_df.loc[1]"
   ]
  },
  {
   "cell_type": "code",
   "execution_count": null,
   "id": "b5cf2080",
   "metadata": {
    "scrolled": true
   },
   "outputs": [],
   "source": [
    "genre_df['title'] = genre_df['title'].apply(lambda x: x.lower() if not isinstance(x, float) else x)"
   ]
  },
  {
   "cell_type": "code",
   "execution_count": null,
   "id": "9c68a7d3",
   "metadata": {},
   "outputs": [],
   "source": [
    "genre_df['comment'] = genre_df['comment'].apply(lambda x: x.lower() if not isinstance(x, float) else x)"
   ]
  },
  {
   "cell_type": "code",
   "execution_count": null,
   "id": "5a55904d",
   "metadata": {},
   "outputs": [],
   "source": [
    "# List of columns to apply to logic \n",
    "columns_to_check = ['title']\n",
    "# List of keywords used with logic (Note: dance removed fro conflicting other keywords)\n",
    "keywords_list = ['pop', 'rock and roll', 'rock', 'hip-hop', 'hip hop','hiphop','hip -hop','hip/hop','soul','rap', 'country', \n",
    "            'r&b','r&amp;b','neo soul', 'neo-soul', 'jazz', 'edm','electro','deephouse','house music','metal', 'folk', 'blues']\n",
    "# Create new genre column \n",
    "genre_df['genre'] = 'NaN'"
   ]
  },
  {
   "cell_type": "code",
   "execution_count": null,
   "id": "f863b3cb",
   "metadata": {
    "scrolled": true
   },
   "outputs": [],
   "source": [
    "for i in range(len(genre_df)):\n",
    "    for keyword in keywords_list:\n",
    "        if isinstance(genre_df['title'][i], float):\n",
    "            genre_df.drop(i)\n",
    "            continue \n",
    "            \n",
    "        if keyword in genre_df['title'][i]:\n",
    "            genre_df['genre'][i] = keyword\n",
    "            break"
   ]
  },
  {
   "cell_type": "code",
   "execution_count": null,
   "id": "d663bc4e",
   "metadata": {
    "scrolled": true
   },
   "outputs": [],
   "source": [
    "# List of columns to apply to logic \n",
    "columns_to_check = ['comment']\n",
    "# List of keywords used with logic \n",
    "keywords_list = ['pop', 'rock and roll', 'rock', 'hip-hop', 'hip hop','hiphop','hip -hop','hip/hop',\\\n",
    "                 'soul','rap', 'country','r&b','r&amp;b', 'neo soul', 'neo-soul', 'jazz', 'edm',\\\n",
    "                 'electro','deephouse','house music','metal', 'folk', 'blues']"
   ]
  },
  {
   "cell_type": "code",
   "execution_count": null,
   "id": "34017c9b",
   "metadata": {},
   "outputs": [],
   "source": [
    "for i in range(len(genre_df)):\n",
    "    for keyword in keywords_list:\n",
    "        if isinstance(genre_df['comment'][i], float):\n",
    "            genre_df.drop(i)\n",
    "            continue \n",
    "            \n",
    "        if keyword in genre_df['comment'][i] and genre_df['genre'][i] == 'NaN':\n",
    "            genre_df['genre'][i] = keyword\n",
    "            break"
   ]
  },
  {
   "cell_type": "code",
   "execution_count": null,
   "id": "e0e45543",
   "metadata": {
    "scrolled": true
   },
   "outputs": [],
   "source": [
    "genre_df['genre'].value_counts()"
   ]
  },
  {
   "cell_type": "code",
   "execution_count": null,
   "id": "02361c01",
   "metadata": {
    "scrolled": true
   },
   "outputs": [],
   "source": [
    "genre_df = genre_df[genre_df['genre'] != 'NaN']"
   ]
  },
  {
   "cell_type": "code",
   "execution_count": null,
   "id": "a252e40b",
   "metadata": {},
   "outputs": [],
   "source": [
    "genre_df = genre_df.reset_index(drop=True)"
   ]
  },
  {
   "cell_type": "code",
   "execution_count": null,
   "id": "8ea825bd",
   "metadata": {},
   "outputs": [],
   "source": [
    "for i in range(len(genre_df)):\n",
    "    if genre_df['genre'][i] == 'rock and roll':\n",
    "        genre_df['genre'][i] = 'rock'\n",
    "    if genre_df['genre'][i] == 'hip hop' or genre_df['genre'][i] == 'hiphop' or genre_df['genre'][i] == 'hip/hop' or genre_df['genre'][i] == 'hip -hop':\n",
    "        genre_df['genre'][i] = 'hip-hop'\n",
    "    if genre_df['genre'][i] == 'electro' or genre_df['genre'][i] == 'house music':\n",
    "        genre_df['genre'][i] = 'edm'\n",
    "    if genre_df['genre'][i] == 'r&amp;b':\n",
    "        genre_df['genre'][i] = 'rnb'\n",
    "    "
   ]
  },
  {
   "cell_type": "code",
   "execution_count": null,
   "id": "ec6b211a",
   "metadata": {},
   "outputs": [],
   "source": [
    "genre_df['genre'].value_counts()"
   ]
  },
  {
   "cell_type": "code",
   "execution_count": null,
   "id": "a89ce676",
   "metadata": {},
   "outputs": [],
   "source": [
    "def get_sentiment(text):\n",
    "    return TextBlob(text).sentiment.polarity"
   ]
  },
  {
   "cell_type": "code",
   "execution_count": null,
   "id": "fc60e1c1",
   "metadata": {},
   "outputs": [],
   "source": [
    "genre_df['sentiment'] = genre_df['comment'].apply(lambda x: get_sentiment(x) if not isinstance(x, float) else x)  "
   ]
  },
  {
   "cell_type": "code",
   "execution_count": null,
   "id": "1e8632ee",
   "metadata": {},
   "outputs": [],
   "source": [
    "genre_df['sentiment'] = genre_df.apply(lambda x: get_sentiment(x['title']) if pd.isna(x['sentiment']) else x['sentiment'], axis=1)\n"
   ]
  },
  {
   "cell_type": "code",
   "execution_count": null,
   "id": "5b53aa87",
   "metadata": {},
   "outputs": [],
   "source": [
    "genre_df.rename(columns={'sentiment':'sentiment score'},inplace=True)"
   ]
  },
  {
   "cell_type": "code",
   "execution_count": null,
   "id": "98b6cb35",
   "metadata": {},
   "outputs": [],
   "source": [
    "genre_df_reference = genre_df.copy()"
   ]
  },
  {
   "cell_type": "code",
   "execution_count": null,
   "id": "fd754257",
   "metadata": {},
   "outputs": [],
   "source": [
    "def sentiment_analysis(score):\n",
    "    if score <-0.2:\n",
    "        return 'negative'\n",
    "    if score >=-0.2 and score <= 0.2:\n",
    "        return 'neutral'\n",
    "    if score > 0.2:\n",
    "        return 'positive'"
   ]
  },
  {
   "cell_type": "code",
   "execution_count": null,
   "id": "d1ec7ca9",
   "metadata": {},
   "outputs": [],
   "source": [
    "genre_df['sentiment'] = genre_df['sentiment score'].apply(lambda x: sentiment_analysis(x))"
   ]
  },
  {
   "cell_type": "code",
   "execution_count": null,
   "id": "2bcafeb8",
   "metadata": {},
   "outputs": [],
   "source": [
    "genre_df['sentiment'].value_counts()"
   ]
  },
  {
   "cell_type": "code",
   "execution_count": null,
   "id": "2d666aa7",
   "metadata": {},
   "outputs": [],
   "source": [
    "genre_df['created_at'][0].split(' ')[0].split('-')[1]"
   ]
  },
  {
   "cell_type": "code",
   "execution_count": null,
   "id": "0a2a7a34",
   "metadata": {},
   "outputs": [],
   "source": [
    "genre_df['year'] = genre_df['created_at'].apply(lambda x:x.split(' ')[0].split('-')[0])"
   ]
  },
  {
   "cell_type": "code",
   "execution_count": null,
   "id": "37ce946b",
   "metadata": {},
   "outputs": [],
   "source": [
    "genre_df['month'] = genre_df['created_at'].apply(lambda x:x.split(' ')[0].split('-')[1])"
   ]
  },
  {
   "cell_type": "code",
   "execution_count": null,
   "id": "9c941ec9",
   "metadata": {},
   "outputs": [],
   "source": [
    "genre_df.drop(['subreddit','title','comment','author','created_at'],axis=1,inplace=True)"
   ]
  },
  {
   "cell_type": "code",
   "execution_count": null,
   "id": "220ddd6a",
   "metadata": {},
   "outputs": [],
   "source": [
    "genre_df_reference"
   ]
  },
  {
   "cell_type": "code",
   "execution_count": null,
   "id": "8433a2e0",
   "metadata": {},
   "outputs": [],
   "source": [
    "genre_df.head()"
   ]
  },
  {
   "cell_type": "code",
   "execution_count": null,
   "id": "54f71faf",
   "metadata": {},
   "outputs": [],
   "source": [
    "genre_df.to_csv('genre_df_cleaned')"
   ]
  },
  {
   "cell_type": "code",
   "execution_count": null,
   "id": "ddee6b16",
   "metadata": {},
   "outputs": [],
   "source": [
    "genre_df_reference.to_csv('genre_df_reference')"
   ]
  },
  {
   "cell_type": "code",
   "execution_count": null,
   "id": "e217d870",
   "metadata": {},
   "outputs": [],
   "source": [
    "genre_df['sentiment'].groupby()"
   ]
  },
  {
   "cell_type": "code",
   "execution_count": null,
   "id": "59ea7a51",
   "metadata": {},
   "outputs": [],
   "source": [
    "sns.barplot(data=genre_df,x='genre',y=)"
   ]
  }
 ],
 "metadata": {
  "kernelspec": {
   "display_name": "Python 3 (ipykernel)",
   "language": "python",
   "name": "python3"
  },
  "language_info": {
   "codemirror_mode": {
    "name": "ipython",
    "version": 3
   },
   "file_extension": ".py",
   "mimetype": "text/x-python",
   "name": "python",
   "nbconvert_exporter": "python",
   "pygments_lexer": "ipython3",
   "version": "3.9.12"
  }
 },
 "nbformat": 4,
 "nbformat_minor": 5
}
